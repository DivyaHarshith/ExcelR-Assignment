{
 "cells": [
  {
   "cell_type": "code",
   "execution_count": 1,
   "metadata": {},
   "outputs": [],
   "source": [
    "import numpy as np\n",
    "import pandas as pd"
   ]
  },
  {
   "cell_type": "code",
   "execution_count": 2,
   "metadata": {},
   "outputs": [],
   "source": [
    "air = pd.read_csv(\"C:\\\\Users\\\\Prajwal\\\\Desktop\\\\Data Science\\\\Assignments\\\\Clustering\\\\EastWestAirlines.csv\")"
   ]
  },
  {
   "cell_type": "code",
   "execution_count": 3,
   "metadata": {},
   "outputs": [
    {
     "data": {
      "text/html": [
       "<div>\n",
       "<style scoped>\n",
       "    .dataframe tbody tr th:only-of-type {\n",
       "        vertical-align: middle;\n",
       "    }\n",
       "\n",
       "    .dataframe tbody tr th {\n",
       "        vertical-align: top;\n",
       "    }\n",
       "\n",
       "    .dataframe thead th {\n",
       "        text-align: right;\n",
       "    }\n",
       "</style>\n",
       "<table border=\"1\" class=\"dataframe\">\n",
       "  <thead>\n",
       "    <tr style=\"text-align: right;\">\n",
       "      <th></th>\n",
       "      <th>ID#</th>\n",
       "      <th>Balance</th>\n",
       "      <th>Qual_miles</th>\n",
       "      <th>cc1_miles</th>\n",
       "      <th>cc2_miles</th>\n",
       "      <th>cc3_miles</th>\n",
       "      <th>Bonus_miles</th>\n",
       "      <th>Bonus_trans</th>\n",
       "      <th>Flight_miles_12mo</th>\n",
       "      <th>Flight_trans_12</th>\n",
       "      <th>Days_since_enroll</th>\n",
       "      <th>Award?</th>\n",
       "    </tr>\n",
       "  </thead>\n",
       "  <tbody>\n",
       "    <tr>\n",
       "      <th>0</th>\n",
       "      <td>1</td>\n",
       "      <td>28143</td>\n",
       "      <td>0</td>\n",
       "      <td>1</td>\n",
       "      <td>1</td>\n",
       "      <td>1</td>\n",
       "      <td>174</td>\n",
       "      <td>1</td>\n",
       "      <td>0</td>\n",
       "      <td>0</td>\n",
       "      <td>7000</td>\n",
       "      <td>0</td>\n",
       "    </tr>\n",
       "    <tr>\n",
       "      <th>1</th>\n",
       "      <td>2</td>\n",
       "      <td>19244</td>\n",
       "      <td>0</td>\n",
       "      <td>1</td>\n",
       "      <td>1</td>\n",
       "      <td>1</td>\n",
       "      <td>215</td>\n",
       "      <td>2</td>\n",
       "      <td>0</td>\n",
       "      <td>0</td>\n",
       "      <td>6968</td>\n",
       "      <td>0</td>\n",
       "    </tr>\n",
       "    <tr>\n",
       "      <th>2</th>\n",
       "      <td>3</td>\n",
       "      <td>41354</td>\n",
       "      <td>0</td>\n",
       "      <td>1</td>\n",
       "      <td>1</td>\n",
       "      <td>1</td>\n",
       "      <td>4123</td>\n",
       "      <td>4</td>\n",
       "      <td>0</td>\n",
       "      <td>0</td>\n",
       "      <td>7034</td>\n",
       "      <td>0</td>\n",
       "    </tr>\n",
       "    <tr>\n",
       "      <th>3</th>\n",
       "      <td>4</td>\n",
       "      <td>14776</td>\n",
       "      <td>0</td>\n",
       "      <td>1</td>\n",
       "      <td>1</td>\n",
       "      <td>1</td>\n",
       "      <td>500</td>\n",
       "      <td>1</td>\n",
       "      <td>0</td>\n",
       "      <td>0</td>\n",
       "      <td>6952</td>\n",
       "      <td>0</td>\n",
       "    </tr>\n",
       "    <tr>\n",
       "      <th>4</th>\n",
       "      <td>5</td>\n",
       "      <td>97752</td>\n",
       "      <td>0</td>\n",
       "      <td>4</td>\n",
       "      <td>1</td>\n",
       "      <td>1</td>\n",
       "      <td>43300</td>\n",
       "      <td>26</td>\n",
       "      <td>2077</td>\n",
       "      <td>4</td>\n",
       "      <td>6935</td>\n",
       "      <td>1</td>\n",
       "    </tr>\n",
       "  </tbody>\n",
       "</table>\n",
       "</div>"
      ],
      "text/plain": [
       "   ID#  Balance  Qual_miles  cc1_miles  cc2_miles  cc3_miles  Bonus_miles  \\\n",
       "0    1    28143           0          1          1          1          174   \n",
       "1    2    19244           0          1          1          1          215   \n",
       "2    3    41354           0          1          1          1         4123   \n",
       "3    4    14776           0          1          1          1          500   \n",
       "4    5    97752           0          4          1          1        43300   \n",
       "\n",
       "   Bonus_trans  Flight_miles_12mo  Flight_trans_12  Days_since_enroll  Award?  \n",
       "0            1                  0                0               7000       0  \n",
       "1            2                  0                0               6968       0  \n",
       "2            4                  0                0               7034       0  \n",
       "3            1                  0                0               6952       0  \n",
       "4           26               2077                4               6935       1  "
      ]
     },
     "execution_count": 3,
     "metadata": {},
     "output_type": "execute_result"
    }
   ],
   "source": [
    "air.head()"
   ]
  },
  {
   "cell_type": "code",
   "execution_count": 4,
   "metadata": {},
   "outputs": [],
   "source": [
    "air.drop(['ID#'],axis=1,inplace=True)"
   ]
  },
  {
   "cell_type": "code",
   "execution_count": 5,
   "metadata": {},
   "outputs": [
    {
     "data": {
      "text/html": [
       "<div>\n",
       "<style scoped>\n",
       "    .dataframe tbody tr th:only-of-type {\n",
       "        vertical-align: middle;\n",
       "    }\n",
       "\n",
       "    .dataframe tbody tr th {\n",
       "        vertical-align: top;\n",
       "    }\n",
       "\n",
       "    .dataframe thead th {\n",
       "        text-align: right;\n",
       "    }\n",
       "</style>\n",
       "<table border=\"1\" class=\"dataframe\">\n",
       "  <thead>\n",
       "    <tr style=\"text-align: right;\">\n",
       "      <th></th>\n",
       "      <th>Balance</th>\n",
       "      <th>Qual_miles</th>\n",
       "      <th>cc1_miles</th>\n",
       "      <th>cc2_miles</th>\n",
       "      <th>cc3_miles</th>\n",
       "      <th>Bonus_miles</th>\n",
       "      <th>Bonus_trans</th>\n",
       "      <th>Flight_miles_12mo</th>\n",
       "      <th>Flight_trans_12</th>\n",
       "      <th>Days_since_enroll</th>\n",
       "      <th>Award?</th>\n",
       "    </tr>\n",
       "  </thead>\n",
       "  <tbody>\n",
       "    <tr>\n",
       "      <th>count</th>\n",
       "      <td>3.999000e+03</td>\n",
       "      <td>3999.000000</td>\n",
       "      <td>3999.000000</td>\n",
       "      <td>3999.000000</td>\n",
       "      <td>3999.000000</td>\n",
       "      <td>3999.000000</td>\n",
       "      <td>3999.00000</td>\n",
       "      <td>3999.000000</td>\n",
       "      <td>3999.000000</td>\n",
       "      <td>3999.00000</td>\n",
       "      <td>3999.000000</td>\n",
       "    </tr>\n",
       "    <tr>\n",
       "      <th>mean</th>\n",
       "      <td>7.360133e+04</td>\n",
       "      <td>144.114529</td>\n",
       "      <td>2.059515</td>\n",
       "      <td>1.014504</td>\n",
       "      <td>1.012253</td>\n",
       "      <td>17144.846212</td>\n",
       "      <td>11.60190</td>\n",
       "      <td>460.055764</td>\n",
       "      <td>1.373593</td>\n",
       "      <td>4118.55939</td>\n",
       "      <td>0.370343</td>\n",
       "    </tr>\n",
       "    <tr>\n",
       "      <th>std</th>\n",
       "      <td>1.007757e+05</td>\n",
       "      <td>773.663804</td>\n",
       "      <td>1.376919</td>\n",
       "      <td>0.147650</td>\n",
       "      <td>0.195241</td>\n",
       "      <td>24150.967826</td>\n",
       "      <td>9.60381</td>\n",
       "      <td>1400.209171</td>\n",
       "      <td>3.793172</td>\n",
       "      <td>2065.13454</td>\n",
       "      <td>0.482957</td>\n",
       "    </tr>\n",
       "    <tr>\n",
       "      <th>min</th>\n",
       "      <td>0.000000e+00</td>\n",
       "      <td>0.000000</td>\n",
       "      <td>1.000000</td>\n",
       "      <td>1.000000</td>\n",
       "      <td>1.000000</td>\n",
       "      <td>0.000000</td>\n",
       "      <td>0.00000</td>\n",
       "      <td>0.000000</td>\n",
       "      <td>0.000000</td>\n",
       "      <td>2.00000</td>\n",
       "      <td>0.000000</td>\n",
       "    </tr>\n",
       "    <tr>\n",
       "      <th>25%</th>\n",
       "      <td>1.852750e+04</td>\n",
       "      <td>0.000000</td>\n",
       "      <td>1.000000</td>\n",
       "      <td>1.000000</td>\n",
       "      <td>1.000000</td>\n",
       "      <td>1250.000000</td>\n",
       "      <td>3.00000</td>\n",
       "      <td>0.000000</td>\n",
       "      <td>0.000000</td>\n",
       "      <td>2330.00000</td>\n",
       "      <td>0.000000</td>\n",
       "    </tr>\n",
       "    <tr>\n",
       "      <th>50%</th>\n",
       "      <td>4.309700e+04</td>\n",
       "      <td>0.000000</td>\n",
       "      <td>1.000000</td>\n",
       "      <td>1.000000</td>\n",
       "      <td>1.000000</td>\n",
       "      <td>7171.000000</td>\n",
       "      <td>12.00000</td>\n",
       "      <td>0.000000</td>\n",
       "      <td>0.000000</td>\n",
       "      <td>4096.00000</td>\n",
       "      <td>0.000000</td>\n",
       "    </tr>\n",
       "    <tr>\n",
       "      <th>75%</th>\n",
       "      <td>9.240400e+04</td>\n",
       "      <td>0.000000</td>\n",
       "      <td>3.000000</td>\n",
       "      <td>1.000000</td>\n",
       "      <td>1.000000</td>\n",
       "      <td>23800.500000</td>\n",
       "      <td>17.00000</td>\n",
       "      <td>311.000000</td>\n",
       "      <td>1.000000</td>\n",
       "      <td>5790.50000</td>\n",
       "      <td>1.000000</td>\n",
       "    </tr>\n",
       "    <tr>\n",
       "      <th>max</th>\n",
       "      <td>1.704838e+06</td>\n",
       "      <td>11148.000000</td>\n",
       "      <td>5.000000</td>\n",
       "      <td>3.000000</td>\n",
       "      <td>5.000000</td>\n",
       "      <td>263685.000000</td>\n",
       "      <td>86.00000</td>\n",
       "      <td>30817.000000</td>\n",
       "      <td>53.000000</td>\n",
       "      <td>8296.00000</td>\n",
       "      <td>1.000000</td>\n",
       "    </tr>\n",
       "  </tbody>\n",
       "</table>\n",
       "</div>"
      ],
      "text/plain": [
       "            Balance    Qual_miles    cc1_miles    cc2_miles    cc3_miles  \\\n",
       "count  3.999000e+03   3999.000000  3999.000000  3999.000000  3999.000000   \n",
       "mean   7.360133e+04    144.114529     2.059515     1.014504     1.012253   \n",
       "std    1.007757e+05    773.663804     1.376919     0.147650     0.195241   \n",
       "min    0.000000e+00      0.000000     1.000000     1.000000     1.000000   \n",
       "25%    1.852750e+04      0.000000     1.000000     1.000000     1.000000   \n",
       "50%    4.309700e+04      0.000000     1.000000     1.000000     1.000000   \n",
       "75%    9.240400e+04      0.000000     3.000000     1.000000     1.000000   \n",
       "max    1.704838e+06  11148.000000     5.000000     3.000000     5.000000   \n",
       "\n",
       "         Bonus_miles  Bonus_trans  Flight_miles_12mo  Flight_trans_12  \\\n",
       "count    3999.000000   3999.00000        3999.000000      3999.000000   \n",
       "mean    17144.846212     11.60190         460.055764         1.373593   \n",
       "std     24150.967826      9.60381        1400.209171         3.793172   \n",
       "min         0.000000      0.00000           0.000000         0.000000   \n",
       "25%      1250.000000      3.00000           0.000000         0.000000   \n",
       "50%      7171.000000     12.00000           0.000000         0.000000   \n",
       "75%     23800.500000     17.00000         311.000000         1.000000   \n",
       "max    263685.000000     86.00000       30817.000000        53.000000   \n",
       "\n",
       "       Days_since_enroll       Award?  \n",
       "count         3999.00000  3999.000000  \n",
       "mean          4118.55939     0.370343  \n",
       "std           2065.13454     0.482957  \n",
       "min              2.00000     0.000000  \n",
       "25%           2330.00000     0.000000  \n",
       "50%           4096.00000     0.000000  \n",
       "75%           5790.50000     1.000000  \n",
       "max           8296.00000     1.000000  "
      ]
     },
     "execution_count": 5,
     "metadata": {},
     "output_type": "execute_result"
    }
   ],
   "source": [
    "air.describe()"
   ]
  },
  {
   "cell_type": "code",
   "execution_count": 6,
   "metadata": {},
   "outputs": [],
   "source": [
    "from sklearn import preprocessing"
   ]
  },
  {
   "cell_type": "markdown",
   "metadata": {},
   "source": [
    "#### Normalizing Data"
   ]
  },
  {
   "cell_type": "code",
   "execution_count": 7,
   "metadata": {},
   "outputs": [
    {
     "name": "stdout",
     "output_type": "stream",
     "text": [
      "[[-4.51140783e-01 -1.86298687e-01 -7.69578406e-01 ... -3.62167870e-01\n",
      "   1.39545434e+00 -7.66919299e-01]\n",
      " [-5.39456874e-01 -1.86298687e-01 -7.69578406e-01 ... -3.62167870e-01\n",
      "   1.37995704e+00 -7.66919299e-01]\n",
      " [-3.20031232e-01 -1.86298687e-01 -7.69578406e-01 ... -3.62167870e-01\n",
      "   1.41192021e+00 -7.66919299e-01]\n",
      " ...\n",
      " [-4.29480975e-05 -1.86298687e-01  6.83121167e-01 ... -3.62167870e-01\n",
      "  -1.31560393e+00  1.30391816e+00]\n",
      " [-1.85606976e-01 -1.86298687e-01 -7.69578406e-01 ... -9.85033311e-02\n",
      "  -1.31608822e+00 -7.66919299e-01]\n",
      " [-7.00507951e-01 -1.86298687e-01 -7.69578406e-01 ... -3.62167870e-01\n",
      "  -1.31754109e+00 -7.66919299e-01]]\n"
     ]
    }
   ],
   "source": [
    "air_std = preprocessing.scale(air)\n",
    "print(air_std)\n",
    "air_std = pd.DataFrame(air_std)"
   ]
  },
  {
   "cell_type": "markdown",
   "metadata": {},
   "source": [
    "## K-Means Clustering"
   ]
  },
  {
   "cell_type": "code",
   "execution_count": 8,
   "metadata": {},
   "outputs": [],
   "source": [
    "from sklearn.cluster import KMeans\n",
    "import matplotlib.pyplot as plt\n",
    "%matplotlib inline"
   ]
  },
  {
   "cell_type": "code",
   "execution_count": 9,
   "metadata": {},
   "outputs": [
    {
     "data": {
      "text/plain": [
       "Text(0, 0.5, 'WCSS')"
      ]
     },
     "execution_count": 9,
     "metadata": {},
     "output_type": "execute_result"
    },
    {
     "data": {
      "image/png": "[encoded data removed]",
      "text/plain": [
       "<Figure size 720x576 with 1 Axes>"
      ]
     },
     "metadata": {
      "needs_background": "light"
     },
     "output_type": "display_data"
    }
   ],
   "source": [
    "plt.figure(figsize=(10,8))\n",
    "wcss = []\n",
    "\n",
    "\n",
    "for i in range(1,11):\n",
    "    kmeans = KMeans(n_clusters = i,init = 'k-means++',random_state = 42)\n",
    "    kmeans.fit(air_std)\n",
    "    wcss.append(kmeans.inertia_)\n",
    "\n",
    "plt.plot(range(1,11),wcss)\n",
    "plt.title('The Elbow Curve')\n",
    "plt.xlabel('Number of clusters')\n",
    "plt.ylabel('WCSS')"
   ]
  },
  {
   "cell_type": "markdown",
   "metadata": {},
   "source": [
    "#### Fitting K-Means to dataset"
   ]
  },
  {
   "cell_type": "code",
   "execution_count": 11,
   "metadata": {},
   "outputs": [],
   "source": [
    "kmeans = KMeans(n_clusters = 4,init = 'k-means++',random_state = 42)\n",
    "y_kmeans = kmeans.fit_predict(air_std)"
   ]
  },
  {
   "cell_type": "code",
   "execution_count": 12,
   "metadata": {},
   "outputs": [
    {
     "data": {
      "text/plain": [
       "array([0, 0, 0, ..., 2, 0, 0])"
      ]
     },
     "execution_count": 12,
     "metadata": {},
     "output_type": "execute_result"
    }
   ],
   "source": [
    "y_kmeans"
   ]
  },
  {
   "cell_type": "markdown",
   "metadata": {},
   "source": [
    "#### Beginning of cluster numbering with 1 instead of 0"
   ]
  },
  {
   "cell_type": "code",
   "execution_count": 13,
   "metadata": {},
   "outputs": [],
   "source": [
    "y_kmeans1 = y_kmeans+1"
   ]
  },
  {
   "cell_type": "code",
   "execution_count": 14,
   "metadata": {},
   "outputs": [],
   "source": [
    "cluster = list(y_kmeans1)"
   ]
  },
  {
   "cell_type": "markdown",
   "metadata": {},
   "source": [
    "#### Adding cluster to the data"
   ]
  },
  {
   "cell_type": "code",
   "execution_count": 15,
   "metadata": {},
   "outputs": [],
   "source": [
    "air['cluster'] = cluster"
   ]
  },
  {
   "cell_type": "code",
   "execution_count": 16,
   "metadata": {},
   "outputs": [],
   "source": [
    "kmeans_mean_cluster = pd.DataFrame(round(air.groupby('cluster').mean(),1))"
   ]
  },
  {
   "cell_type": "code",
   "execution_count": 17,
   "metadata": {},
   "outputs": [
    {
     "data": {
      "text/html": [
       "<div>\n",
       "<style scoped>\n",
       "    .dataframe tbody tr th:only-of-type {\n",
       "        vertical-align: middle;\n",
       "    }\n",
       "\n",
       "    .dataframe tbody tr th {\n",
       "        vertical-align: top;\n",
       "    }\n",
       "\n",
       "    .dataframe thead th {\n",
       "        text-align: right;\n",
       "    }\n",
       "</style>\n",
       "<table border=\"1\" class=\"dataframe\">\n",
       "  <thead>\n",
       "    <tr style=\"text-align: right;\">\n",
       "      <th></th>\n",
       "      <th>Balance</th>\n",
       "      <th>Qual_miles</th>\n",
       "      <th>cc1_miles</th>\n",
       "      <th>cc2_miles</th>\n",
       "      <th>cc3_miles</th>\n",
       "      <th>Bonus_miles</th>\n",
       "      <th>Bonus_trans</th>\n",
       "      <th>Flight_miles_12mo</th>\n",
       "      <th>Flight_trans_12</th>\n",
       "      <th>Days_since_enroll</th>\n",
       "      <th>Award?</th>\n",
       "    </tr>\n",
       "    <tr>\n",
       "      <th>cluster</th>\n",
       "      <th></th>\n",
       "      <th></th>\n",
       "      <th></th>\n",
       "      <th></th>\n",
       "      <th></th>\n",
       "      <th></th>\n",
       "      <th></th>\n",
       "      <th></th>\n",
       "      <th></th>\n",
       "      <th></th>\n",
       "      <th></th>\n",
       "    </tr>\n",
       "  </thead>\n",
       "  <tbody>\n",
       "    <tr>\n",
       "      <th>1</th>\n",
       "      <td>44136.9</td>\n",
       "      <td>97.0</td>\n",
       "      <td>1.2</td>\n",
       "      <td>1.0</td>\n",
       "      <td>1.0</td>\n",
       "      <td>4744.2</td>\n",
       "      <td>6.9</td>\n",
       "      <td>199.0</td>\n",
       "      <td>0.6</td>\n",
       "      <td>3701.2</td>\n",
       "      <td>0.2</td>\n",
       "    </tr>\n",
       "    <tr>\n",
       "      <th>2</th>\n",
       "      <td>194350.2</td>\n",
       "      <td>778.5</td>\n",
       "      <td>2.1</td>\n",
       "      <td>1.0</td>\n",
       "      <td>1.0</td>\n",
       "      <td>31215.2</td>\n",
       "      <td>26.9</td>\n",
       "      <td>5404.7</td>\n",
       "      <td>15.8</td>\n",
       "      <td>4703.2</td>\n",
       "      <td>0.8</td>\n",
       "    </tr>\n",
       "    <tr>\n",
       "      <th>3</th>\n",
       "      <td>116574.9</td>\n",
       "      <td>157.2</td>\n",
       "      <td>3.7</td>\n",
       "      <td>1.0</td>\n",
       "      <td>1.0</td>\n",
       "      <td>39435.7</td>\n",
       "      <td>18.8</td>\n",
       "      <td>341.6</td>\n",
       "      <td>1.0</td>\n",
       "      <td>4879.0</td>\n",
       "      <td>0.7</td>\n",
       "    </tr>\n",
       "    <tr>\n",
       "      <th>4</th>\n",
       "      <td>138061.4</td>\n",
       "      <td>78.8</td>\n",
       "      <td>3.5</td>\n",
       "      <td>1.0</td>\n",
       "      <td>4.1</td>\n",
       "      <td>93927.9</td>\n",
       "      <td>28.1</td>\n",
       "      <td>506.7</td>\n",
       "      <td>1.6</td>\n",
       "      <td>4613.9</td>\n",
       "      <td>0.5</td>\n",
       "    </tr>\n",
       "  </tbody>\n",
       "</table>\n",
       "</div>"
      ],
      "text/plain": [
       "          Balance  Qual_miles  cc1_miles  cc2_miles  cc3_miles  Bonus_miles  \\\n",
       "cluster                                                                       \n",
       "1         44136.9        97.0        1.2        1.0        1.0       4744.2   \n",
       "2        194350.2       778.5        2.1        1.0        1.0      31215.2   \n",
       "3        116574.9       157.2        3.7        1.0        1.0      39435.7   \n",
       "4        138061.4        78.8        3.5        1.0        4.1      93927.9   \n",
       "\n",
       "         Bonus_trans  Flight_miles_12mo  Flight_trans_12  Days_since_enroll  \\\n",
       "cluster                                                                       \n",
       "1                6.9              199.0              0.6             3701.2   \n",
       "2               26.9             5404.7             15.8             4703.2   \n",
       "3               18.8              341.6              1.0             4879.0   \n",
       "4               28.1              506.7              1.6             4613.9   \n",
       "\n",
       "         Award?  \n",
       "cluster          \n",
       "1           0.2  \n",
       "2           0.8  \n",
       "3           0.7  \n",
       "4           0.5  "
      ]
     },
     "execution_count": 17,
     "metadata": {},
     "output_type": "execute_result"
    }
   ],
   "source": [
    "kmeans_mean_cluster"
   ]
  },
  {
   "cell_type": "code",
   "execution_count": 18,
   "metadata": {},
   "outputs": [],
   "source": [
    "import seaborn as sns"
   ]
  },
  {
   "cell_type": "code",
   "execution_count": 21,
   "metadata": {},
   "outputs": [
    {
     "data": {
      "text/plain": [
       "<matplotlib.axes._subplots.AxesSubplot at 0x1d661a31f48>"
      ]
     },
     "execution_count": 21,
     "metadata": {},
     "output_type": "execute_result"
    },
    {
     "data": {
      "image/png": "[encoded data removed]",
      "text/plain": [
       "<Figure size 864x432 with 1 Axes>"
      ]
     },
     "metadata": {
      "needs_background": "light"
     },
     "output_type": "display_data"
    }
   ],
   "source": [
    "plt.figure(figsize=(12,6))\n",
    "sns.scatterplot(x=air['Balance'],y = air['Qual_miles'],hue = y_kmeans1)"
   ]
  },
  {
   "cell_type": "markdown",
   "metadata": {},
   "source": [
    "## Hierarchical Clustering"
   ]
  },
  {
   "cell_type": "code",
   "execution_count": 23,
   "metadata": {},
   "outputs": [],
   "source": [
    "air1_std = air_std"
   ]
  },
  {
   "cell_type": "code",
   "execution_count": 30,
   "metadata": {},
   "outputs": [],
   "source": [
    "from scipy.cluster.hierarchy import dendrogram,linkage \n",
    "import scipy.cluster.hierarchy as sch"
   ]
  },
  {
   "cell_type": "code",
   "execution_count": 31,
   "metadata": {},
   "outputs": [],
   "source": [
    "np.set_printoptions(precision=5,suppress=True)"
   ]
  },
  {
   "cell_type": "code",
   "execution_count": 32,
   "metadata": {},
   "outputs": [],
   "source": [
    "H_cluster = linkage(air1_std,'ward')"
   ]
  },
  {
   "cell_type": "code",
   "execution_count": 35,
   "metadata": {},
   "outputs": [
    {
     "data": {
      "image/png": "[encoded data removed]",
      "text/plain": [
       "<Figure size 432x288 with 1 Axes>"
      ]
     },
     "metadata": {
      "needs_background": "light"
     },
     "output_type": "display_data"
    }
   ],
   "source": [
    "plt.title('Dendogram')\n",
    "plt.xlabel('cluster size')\n",
    "plt.ylabel('Distance')\n",
    "\n",
    "dendrogram(\n",
    "    H_cluster,\n",
    "    truncate_mode='lastp',\n",
    "    p=5,\n",
    "    leaf_rotation=90.,\n",
    "    leaf_font_size=12.,\n",
    "    show_contracted=True,\n",
    ")\n",
    "plt.show()"
   ]
  },
  {
   "cell_type": "code",
   "execution_count": 37,
   "metadata": {},
   "outputs": [],
   "source": [
    "from scipy.cluster.hierarchy import fcluster"
   ]
  },
  {
   "cell_type": "code",
   "execution_count": 38,
   "metadata": {},
   "outputs": [],
   "source": [
    "k = 5"
   ]
  },
  {
   "cell_type": "code",
   "execution_count": 39,
   "metadata": {},
   "outputs": [
    {
     "data": {
      "text/plain": [
       "array([2, 2, 2, 2, 5, 2, 5, 2, 1, 5, 2, 5, 2, 2, 2, 5, 5, 2, 5, 5, 5, 5,\n",
       "       2, 2, 2, 2, 2, 2, 5, 2], dtype=int32)"
      ]
     },
     "execution_count": 39,
     "metadata": {},
     "output_type": "execute_result"
    }
   ],
   "source": [
    "cluster_2 = fcluster(H_cluster,k,criterion='maxclust')\n",
    "cluster_2[0:30:,]"
   ]
  },
  {
   "cell_type": "code",
   "execution_count": 40,
   "metadata": {},
   "outputs": [
    {
     "data": {
      "image/png": "[encoded data removed]",
      "text/plain": [
       "<Figure size 720x576 with 1 Axes>"
      ]
     },
     "metadata": {
      "needs_background": "light"
     },
     "output_type": "display_data"
    }
   ],
   "source": [
    "plt.figure(figsize=(10,8))\n",
    "plt.scatter(air1_std.iloc[:,0],air1_std.iloc[:,1],c=cluster_2,cmap='prism')\n",
    "plt.title('East West Airlines Hierarchical clustering')\n",
    "plt.show()"
   ]
  },
  {
   "cell_type": "code",
   "execution_count": 41,
   "metadata": {},
   "outputs": [],
   "source": [
    "cluster_Hierarchical = pd.DataFrame(cluster_2)"
   ]
  },
  {
   "cell_type": "code",
   "execution_count": 42,
   "metadata": {},
   "outputs": [],
   "source": [
    "air1 = air"
   ]
  },
  {
   "cell_type": "code",
   "execution_count": 43,
   "metadata": {},
   "outputs": [],
   "source": [
    "air1['cluster'] = cluster_Hierarchical"
   ]
  },
  {
   "cell_type": "code",
   "execution_count": 44,
   "metadata": {},
   "outputs": [
    {
     "data": {
      "text/html": [
       "<div>\n",
       "<style scoped>\n",
       "    .dataframe tbody tr th:only-of-type {\n",
       "        vertical-align: middle;\n",
       "    }\n",
       "\n",
       "    .dataframe tbody tr th {\n",
       "        vertical-align: top;\n",
       "    }\n",
       "\n",
       "    .dataframe thead th {\n",
       "        text-align: right;\n",
       "    }\n",
       "</style>\n",
       "<table border=\"1\" class=\"dataframe\">\n",
       "  <thead>\n",
       "    <tr style=\"text-align: right;\">\n",
       "      <th></th>\n",
       "      <th>Balance</th>\n",
       "      <th>Qual_miles</th>\n",
       "      <th>cc1_miles</th>\n",
       "      <th>cc2_miles</th>\n",
       "      <th>cc3_miles</th>\n",
       "      <th>Bonus_miles</th>\n",
       "      <th>Bonus_trans</th>\n",
       "      <th>Flight_miles_12mo</th>\n",
       "      <th>Flight_trans_12</th>\n",
       "      <th>Days_since_enroll</th>\n",
       "      <th>Award?</th>\n",
       "      <th>cluster</th>\n",
       "    </tr>\n",
       "  </thead>\n",
       "  <tbody>\n",
       "    <tr>\n",
       "      <th>0</th>\n",
       "      <td>28143</td>\n",
       "      <td>0</td>\n",
       "      <td>1</td>\n",
       "      <td>1</td>\n",
       "      <td>1</td>\n",
       "      <td>174</td>\n",
       "      <td>1</td>\n",
       "      <td>0</td>\n",
       "      <td>0</td>\n",
       "      <td>7000</td>\n",
       "      <td>0</td>\n",
       "      <td>2</td>\n",
       "    </tr>\n",
       "    <tr>\n",
       "      <th>1</th>\n",
       "      <td>19244</td>\n",
       "      <td>0</td>\n",
       "      <td>1</td>\n",
       "      <td>1</td>\n",
       "      <td>1</td>\n",
       "      <td>215</td>\n",
       "      <td>2</td>\n",
       "      <td>0</td>\n",
       "      <td>0</td>\n",
       "      <td>6968</td>\n",
       "      <td>0</td>\n",
       "      <td>2</td>\n",
       "    </tr>\n",
       "    <tr>\n",
       "      <th>2</th>\n",
       "      <td>41354</td>\n",
       "      <td>0</td>\n",
       "      <td>1</td>\n",
       "      <td>1</td>\n",
       "      <td>1</td>\n",
       "      <td>4123</td>\n",
       "      <td>4</td>\n",
       "      <td>0</td>\n",
       "      <td>0</td>\n",
       "      <td>7034</td>\n",
       "      <td>0</td>\n",
       "      <td>2</td>\n",
       "    </tr>\n",
       "    <tr>\n",
       "      <th>3</th>\n",
       "      <td>14776</td>\n",
       "      <td>0</td>\n",
       "      <td>1</td>\n",
       "      <td>1</td>\n",
       "      <td>1</td>\n",
       "      <td>500</td>\n",
       "      <td>1</td>\n",
       "      <td>0</td>\n",
       "      <td>0</td>\n",
       "      <td>6952</td>\n",
       "      <td>0</td>\n",
       "      <td>2</td>\n",
       "    </tr>\n",
       "    <tr>\n",
       "      <th>4</th>\n",
       "      <td>97752</td>\n",
       "      <td>0</td>\n",
       "      <td>4</td>\n",
       "      <td>1</td>\n",
       "      <td>1</td>\n",
       "      <td>43300</td>\n",
       "      <td>26</td>\n",
       "      <td>2077</td>\n",
       "      <td>4</td>\n",
       "      <td>6935</td>\n",
       "      <td>1</td>\n",
       "      <td>5</td>\n",
       "    </tr>\n",
       "  </tbody>\n",
       "</table>\n",
       "</div>"
      ],
      "text/plain": [
       "   Balance  Qual_miles  cc1_miles  cc2_miles  cc3_miles  Bonus_miles  \\\n",
       "0    28143           0          1          1          1          174   \n",
       "1    19244           0          1          1          1          215   \n",
       "2    41354           0          1          1          1         4123   \n",
       "3    14776           0          1          1          1          500   \n",
       "4    97752           0          4          1          1        43300   \n",
       "\n",
       "   Bonus_trans  Flight_miles_12mo  Flight_trans_12  Days_since_enroll  Award?  \\\n",
       "0            1                  0                0               7000       0   \n",
       "1            2                  0                0               6968       0   \n",
       "2            4                  0                0               7034       0   \n",
       "3            1                  0                0               6952       0   \n",
       "4           26               2077                4               6935       1   \n",
       "\n",
       "   cluster  \n",
       "0        2  \n",
       "1        2  \n",
       "2        2  \n",
       "3        2  \n",
       "4        5  "
      ]
     },
     "execution_count": 44,
     "metadata": {},
     "output_type": "execute_result"
    }
   ],
   "source": [
    "air1.head()"
   ]
  },
  {
   "cell_type": "code",
   "execution_count": null,
   "metadata": {},
   "outputs": [],
   "source": []
  }
 ],
 "metadata": {
  "kernelspec": {
   "display_name": "Python 3",
   "language": "python",
   "name": "python3"
  },
  "language_info": {
   "codemirror_mode": {
    "name": "ipython",
    "version": 3
   },
   "file_extension": ".py",
   "mimetype": "text/x-python",
   "name": "python",
   "nbconvert_exporter": "python",
   "pygments_lexer": "ipython3",
   "version": "3.7.7"
  }
 },
 "nbformat": 4,
 "nbformat_minor": 4
}
