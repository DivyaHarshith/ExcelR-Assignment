{
 "cells": [
  {
   "cell_type": "code",
   "execution_count": 1,
   "metadata": {},
   "outputs": [],
   "source": [
    "import numpy as np\n",
    "import pandas as pd\n",
    "import matplotlib.pyplot as plt\n",
    "from apyori import apriori\n",
    "from mlxtend.frequent_patterns import apriori,association_rules"
   ]
  },
  {
   "cell_type": "code",
   "execution_count": 2,
   "metadata": {},
   "outputs": [],
   "source": [
    "book = pd.read_csv(\"C:\\\\Users\\\\Prajwal\\\\Desktop\\\\Data Science\\\\Assignments\\\\Association Rules\\\\book.csv\")"
   ]
  },
  {
   "cell_type": "code",
   "execution_count": 3,
   "metadata": {},
   "outputs": [
    {
     "data": {
      "text/html": [
       "<div>\n",
       "<style scoped>\n",
       "    .dataframe tbody tr th:only-of-type {\n",
       "        vertical-align: middle;\n",
       "    }\n",
       "\n",
       "    .dataframe tbody tr th {\n",
       "        vertical-align: top;\n",
       "    }\n",
       "\n",
       "    .dataframe thead th {\n",
       "        text-align: right;\n",
       "    }\n",
       "</style>\n",
       "<table border=\"1\" class=\"dataframe\">\n",
       "  <thead>\n",
       "    <tr style=\"text-align: right;\">\n",
       "      <th></th>\n",
       "      <th>ChildBks</th>\n",
       "      <th>YouthBks</th>\n",
       "      <th>CookBks</th>\n",
       "      <th>DoItYBks</th>\n",
       "      <th>RefBks</th>\n",
       "      <th>ArtBks</th>\n",
       "      <th>GeogBks</th>\n",
       "      <th>ItalCook</th>\n",
       "      <th>ItalAtlas</th>\n",
       "      <th>ItalArt</th>\n",
       "      <th>Florence</th>\n",
       "    </tr>\n",
       "  </thead>\n",
       "  <tbody>\n",
       "    <tr>\n",
       "      <th>0</th>\n",
       "      <td>0</td>\n",
       "      <td>1</td>\n",
       "      <td>0</td>\n",
       "      <td>1</td>\n",
       "      <td>0</td>\n",
       "      <td>0</td>\n",
       "      <td>1</td>\n",
       "      <td>0</td>\n",
       "      <td>0</td>\n",
       "      <td>0</td>\n",
       "      <td>0</td>\n",
       "    </tr>\n",
       "    <tr>\n",
       "      <th>1</th>\n",
       "      <td>1</td>\n",
       "      <td>0</td>\n",
       "      <td>0</td>\n",
       "      <td>0</td>\n",
       "      <td>0</td>\n",
       "      <td>0</td>\n",
       "      <td>0</td>\n",
       "      <td>0</td>\n",
       "      <td>0</td>\n",
       "      <td>0</td>\n",
       "      <td>0</td>\n",
       "    </tr>\n",
       "    <tr>\n",
       "      <th>2</th>\n",
       "      <td>0</td>\n",
       "      <td>0</td>\n",
       "      <td>0</td>\n",
       "      <td>0</td>\n",
       "      <td>0</td>\n",
       "      <td>0</td>\n",
       "      <td>0</td>\n",
       "      <td>0</td>\n",
       "      <td>0</td>\n",
       "      <td>0</td>\n",
       "      <td>0</td>\n",
       "    </tr>\n",
       "    <tr>\n",
       "      <th>3</th>\n",
       "      <td>1</td>\n",
       "      <td>1</td>\n",
       "      <td>1</td>\n",
       "      <td>0</td>\n",
       "      <td>1</td>\n",
       "      <td>0</td>\n",
       "      <td>1</td>\n",
       "      <td>0</td>\n",
       "      <td>0</td>\n",
       "      <td>0</td>\n",
       "      <td>0</td>\n",
       "    </tr>\n",
       "    <tr>\n",
       "      <th>4</th>\n",
       "      <td>0</td>\n",
       "      <td>0</td>\n",
       "      <td>1</td>\n",
       "      <td>0</td>\n",
       "      <td>0</td>\n",
       "      <td>0</td>\n",
       "      <td>1</td>\n",
       "      <td>0</td>\n",
       "      <td>0</td>\n",
       "      <td>0</td>\n",
       "      <td>0</td>\n",
       "    </tr>\n",
       "    <tr>\n",
       "      <th>...</th>\n",
       "      <td>...</td>\n",
       "      <td>...</td>\n",
       "      <td>...</td>\n",
       "      <td>...</td>\n",
       "      <td>...</td>\n",
       "      <td>...</td>\n",
       "      <td>...</td>\n",
       "      <td>...</td>\n",
       "      <td>...</td>\n",
       "      <td>...</td>\n",
       "      <td>...</td>\n",
       "    </tr>\n",
       "    <tr>\n",
       "      <th>1995</th>\n",
       "      <td>0</td>\n",
       "      <td>0</td>\n",
       "      <td>1</td>\n",
       "      <td>0</td>\n",
       "      <td>0</td>\n",
       "      <td>1</td>\n",
       "      <td>1</td>\n",
       "      <td>1</td>\n",
       "      <td>0</td>\n",
       "      <td>1</td>\n",
       "      <td>1</td>\n",
       "    </tr>\n",
       "    <tr>\n",
       "      <th>1996</th>\n",
       "      <td>0</td>\n",
       "      <td>0</td>\n",
       "      <td>0</td>\n",
       "      <td>0</td>\n",
       "      <td>0</td>\n",
       "      <td>0</td>\n",
       "      <td>0</td>\n",
       "      <td>0</td>\n",
       "      <td>0</td>\n",
       "      <td>0</td>\n",
       "      <td>0</td>\n",
       "    </tr>\n",
       "    <tr>\n",
       "      <th>1997</th>\n",
       "      <td>0</td>\n",
       "      <td>0</td>\n",
       "      <td>0</td>\n",
       "      <td>0</td>\n",
       "      <td>0</td>\n",
       "      <td>0</td>\n",
       "      <td>0</td>\n",
       "      <td>0</td>\n",
       "      <td>0</td>\n",
       "      <td>0</td>\n",
       "      <td>0</td>\n",
       "    </tr>\n",
       "    <tr>\n",
       "      <th>1998</th>\n",
       "      <td>0</td>\n",
       "      <td>0</td>\n",
       "      <td>1</td>\n",
       "      <td>0</td>\n",
       "      <td>0</td>\n",
       "      <td>0</td>\n",
       "      <td>0</td>\n",
       "      <td>0</td>\n",
       "      <td>0</td>\n",
       "      <td>0</td>\n",
       "      <td>0</td>\n",
       "    </tr>\n",
       "    <tr>\n",
       "      <th>1999</th>\n",
       "      <td>0</td>\n",
       "      <td>0</td>\n",
       "      <td>0</td>\n",
       "      <td>0</td>\n",
       "      <td>0</td>\n",
       "      <td>0</td>\n",
       "      <td>0</td>\n",
       "      <td>0</td>\n",
       "      <td>0</td>\n",
       "      <td>0</td>\n",
       "      <td>0</td>\n",
       "    </tr>\n",
       "  </tbody>\n",
       "</table>\n",
       "<p>2000 rows × 11 columns</p>\n",
       "</div>"
      ],
      "text/plain": [
       "      ChildBks  YouthBks  CookBks  DoItYBks  RefBks  ArtBks  GeogBks  \\\n",
       "0            0         1        0         1       0       0        1   \n",
       "1            1         0        0         0       0       0        0   \n",
       "2            0         0        0         0       0       0        0   \n",
       "3            1         1        1         0       1       0        1   \n",
       "4            0         0        1         0       0       0        1   \n",
       "...        ...       ...      ...       ...     ...     ...      ...   \n",
       "1995         0         0        1         0       0       1        1   \n",
       "1996         0         0        0         0       0       0        0   \n",
       "1997         0         0        0         0       0       0        0   \n",
       "1998         0         0        1         0       0       0        0   \n",
       "1999         0         0        0         0       0       0        0   \n",
       "\n",
       "      ItalCook  ItalAtlas  ItalArt  Florence  \n",
       "0            0          0        0         0  \n",
       "1            0          0        0         0  \n",
       "2            0          0        0         0  \n",
       "3            0          0        0         0  \n",
       "4            0          0        0         0  \n",
       "...        ...        ...      ...       ...  \n",
       "1995         1          0        1         1  \n",
       "1996         0          0        0         0  \n",
       "1997         0          0        0         0  \n",
       "1998         0          0        0         0  \n",
       "1999         0          0        0         0  \n",
       "\n",
       "[2000 rows x 11 columns]"
      ]
     },
     "execution_count": 3,
     "metadata": {},
     "output_type": "execute_result"
    }
   ],
   "source": [
    "book"
   ]
  },
  {
   "cell_type": "code",
   "execution_count": 4,
   "metadata": {},
   "outputs": [],
   "source": [
    "frequent_itemsets = apriori(book, min_support=0.015, max_len=2,use_colnames = True)"
   ]
  },
  {
   "cell_type": "code",
   "execution_count": 5,
   "metadata": {},
   "outputs": [],
   "source": [
    "# Most Frequent item sets based on support \n",
    "frequent_itemsets.sort_values('support',ascending = False,inplace=True)"
   ]
  },
  {
   "cell_type": "code",
   "execution_count": 6,
   "metadata": {},
   "outputs": [],
   "source": [
    "rules = association_rules(frequent_itemsets, metric=\"lift\", min_threshold=1)\n",
    "rules.sort_values('lift',ascending = False,inplace=True)"
   ]
  },
  {
   "cell_type": "code",
   "execution_count": 7,
   "metadata": {},
   "outputs": [
    {
     "data": {
      "text/html": [
       "<div>\n",
       "<style scoped>\n",
       "    .dataframe tbody tr th:only-of-type {\n",
       "        vertical-align: middle;\n",
       "    }\n",
       "\n",
       "    .dataframe tbody tr th {\n",
       "        vertical-align: top;\n",
       "    }\n",
       "\n",
       "    .dataframe thead th {\n",
       "        text-align: right;\n",
       "    }\n",
       "</style>\n",
       "<table border=\"1\" class=\"dataframe\">\n",
       "  <thead>\n",
       "    <tr style=\"text-align: right;\">\n",
       "      <th></th>\n",
       "      <th>antecedents</th>\n",
       "      <th>consequents</th>\n",
       "      <th>antecedent support</th>\n",
       "      <th>consequent support</th>\n",
       "      <th>support</th>\n",
       "      <th>confidence</th>\n",
       "      <th>lift</th>\n",
       "      <th>leverage</th>\n",
       "      <th>conviction</th>\n",
       "    </tr>\n",
       "  </thead>\n",
       "  <tbody>\n",
       "    <tr>\n",
       "      <th>103</th>\n",
       "      <td>(ItalArt)</td>\n",
       "      <td>(ItalAtlas)</td>\n",
       "      <td>0.0485</td>\n",
       "      <td>0.0370</td>\n",
       "      <td>0.0165</td>\n",
       "      <td>0.340206</td>\n",
       "      <td>9.194762</td>\n",
       "      <td>0.014706</td>\n",
       "      <td>1.459547</td>\n",
       "    </tr>\n",
       "    <tr>\n",
       "      <th>102</th>\n",
       "      <td>(ItalAtlas)</td>\n",
       "      <td>(ItalArt)</td>\n",
       "      <td>0.0370</td>\n",
       "      <td>0.0485</td>\n",
       "      <td>0.0165</td>\n",
       "      <td>0.445946</td>\n",
       "      <td>9.194762</td>\n",
       "      <td>0.014706</td>\n",
       "      <td>1.717341</td>\n",
       "    </tr>\n",
       "    <tr>\n",
       "      <th>68</th>\n",
       "      <td>(ItalArt)</td>\n",
       "      <td>(ItalCook)</td>\n",
       "      <td>0.0485</td>\n",
       "      <td>0.1135</td>\n",
       "      <td>0.0375</td>\n",
       "      <td>0.773196</td>\n",
       "      <td>6.812298</td>\n",
       "      <td>0.031995</td>\n",
       "      <td>3.908659</td>\n",
       "    </tr>\n",
       "    <tr>\n",
       "      <th>69</th>\n",
       "      <td>(ItalCook)</td>\n",
       "      <td>(ItalArt)</td>\n",
       "      <td>0.1135</td>\n",
       "      <td>0.0485</td>\n",
       "      <td>0.0375</td>\n",
       "      <td>0.330396</td>\n",
       "      <td>6.812298</td>\n",
       "      <td>0.031995</td>\n",
       "      <td>1.420990</td>\n",
       "    </tr>\n",
       "    <tr>\n",
       "      <th>87</th>\n",
       "      <td>(ItalCook)</td>\n",
       "      <td>(ItalAtlas)</td>\n",
       "      <td>0.1135</td>\n",
       "      <td>0.0370</td>\n",
       "      <td>0.0230</td>\n",
       "      <td>0.202643</td>\n",
       "      <td>5.476842</td>\n",
       "      <td>0.018800</td>\n",
       "      <td>1.207740</td>\n",
       "    </tr>\n",
       "    <tr>\n",
       "      <th>86</th>\n",
       "      <td>(ItalAtlas)</td>\n",
       "      <td>(ItalCook)</td>\n",
       "      <td>0.0370</td>\n",
       "      <td>0.1135</td>\n",
       "      <td>0.0230</td>\n",
       "      <td>0.621622</td>\n",
       "      <td>5.476842</td>\n",
       "      <td>0.018800</td>\n",
       "      <td>2.342893</td>\n",
       "    </tr>\n",
       "    <tr>\n",
       "      <th>70</th>\n",
       "      <td>(ItalAtlas)</td>\n",
       "      <td>(RefBks)</td>\n",
       "      <td>0.0370</td>\n",
       "      <td>0.2145</td>\n",
       "      <td>0.0370</td>\n",
       "      <td>1.000000</td>\n",
       "      <td>4.662005</td>\n",
       "      <td>0.029063</td>\n",
       "      <td>inf</td>\n",
       "    </tr>\n",
       "    <tr>\n",
       "      <th>71</th>\n",
       "      <td>(RefBks)</td>\n",
       "      <td>(ItalAtlas)</td>\n",
       "      <td>0.2145</td>\n",
       "      <td>0.0370</td>\n",
       "      <td>0.0370</td>\n",
       "      <td>0.172494</td>\n",
       "      <td>4.662005</td>\n",
       "      <td>0.029063</td>\n",
       "      <td>1.163738</td>\n",
       "    </tr>\n",
       "    <tr>\n",
       "      <th>59</th>\n",
       "      <td>(ArtBks)</td>\n",
       "      <td>(ItalArt)</td>\n",
       "      <td>0.2410</td>\n",
       "      <td>0.0485</td>\n",
       "      <td>0.0485</td>\n",
       "      <td>0.201245</td>\n",
       "      <td>4.149378</td>\n",
       "      <td>0.036812</td>\n",
       "      <td>1.191229</td>\n",
       "    </tr>\n",
       "    <tr>\n",
       "      <th>58</th>\n",
       "      <td>(ItalArt)</td>\n",
       "      <td>(ArtBks)</td>\n",
       "      <td>0.0485</td>\n",
       "      <td>0.2410</td>\n",
       "      <td>0.0485</td>\n",
       "      <td>1.000000</td>\n",
       "      <td>4.149378</td>\n",
       "      <td>0.036812</td>\n",
       "      <td>inf</td>\n",
       "    </tr>\n",
       "  </tbody>\n",
       "</table>\n",
       "</div>"
      ],
      "text/plain": [
       "     antecedents  consequents  antecedent support  consequent support  \\\n",
       "103    (ItalArt)  (ItalAtlas)              0.0485              0.0370   \n",
       "102  (ItalAtlas)    (ItalArt)              0.0370              0.0485   \n",
       "68     (ItalArt)   (ItalCook)              0.0485              0.1135   \n",
       "69    (ItalCook)    (ItalArt)              0.1135              0.0485   \n",
       "87    (ItalCook)  (ItalAtlas)              0.1135              0.0370   \n",
       "86   (ItalAtlas)   (ItalCook)              0.0370              0.1135   \n",
       "70   (ItalAtlas)     (RefBks)              0.0370              0.2145   \n",
       "71      (RefBks)  (ItalAtlas)              0.2145              0.0370   \n",
       "59      (ArtBks)    (ItalArt)              0.2410              0.0485   \n",
       "58     (ItalArt)     (ArtBks)              0.0485              0.2410   \n",
       "\n",
       "     support  confidence      lift  leverage  conviction  \n",
       "103   0.0165    0.340206  9.194762  0.014706    1.459547  \n",
       "102   0.0165    0.445946  9.194762  0.014706    1.717341  \n",
       "68    0.0375    0.773196  6.812298  0.031995    3.908659  \n",
       "69    0.0375    0.330396  6.812298  0.031995    1.420990  \n",
       "87    0.0230    0.202643  5.476842  0.018800    1.207740  \n",
       "86    0.0230    0.621622  5.476842  0.018800    2.342893  \n",
       "70    0.0370    1.000000  4.662005  0.029063         inf  \n",
       "71    0.0370    0.172494  4.662005  0.029063    1.163738  \n",
       "59    0.0485    0.201245  4.149378  0.036812    1.191229  \n",
       "58    0.0485    1.000000  4.149378  0.036812         inf  "
      ]
     },
     "execution_count": 7,
     "metadata": {},
     "output_type": "execute_result"
    }
   ],
   "source": [
    "rules.head(10)"
   ]
  },
  {
   "cell_type": "code",
   "execution_count": 8,
   "metadata": {},
   "outputs": [],
   "source": [
    "## Using diff support and confidence"
   ]
  },
  {
   "cell_type": "code",
   "execution_count": 9,
   "metadata": {},
   "outputs": [],
   "source": [
    "frequent_itemsets = apriori(book, min_support=0.035, max_len=3,use_colnames = True)"
   ]
  },
  {
   "cell_type": "code",
   "execution_count": 10,
   "metadata": {},
   "outputs": [],
   "source": [
    "# Most Frequent item sets based on support \n",
    "frequent_itemsets.sort_values('support',ascending = False,inplace=True)"
   ]
  },
  {
   "cell_type": "code",
   "execution_count": 11,
   "metadata": {},
   "outputs": [],
   "source": [
    "rules = association_rules(frequent_itemsets, metric=\"lift\", min_threshold=1)\n",
    "rules.sort_values('lift',ascending = False,inplace=True)"
   ]
  },
  {
   "cell_type": "code",
   "execution_count": 12,
   "metadata": {},
   "outputs": [
    {
     "data": {
      "text/html": [
       "<div>\n",
       "<style scoped>\n",
       "    .dataframe tbody tr th:only-of-type {\n",
       "        vertical-align: middle;\n",
       "    }\n",
       "\n",
       "    .dataframe tbody tr th {\n",
       "        vertical-align: top;\n",
       "    }\n",
       "\n",
       "    .dataframe thead th {\n",
       "        text-align: right;\n",
       "    }\n",
       "</style>\n",
       "<table border=\"1\" class=\"dataframe\">\n",
       "  <thead>\n",
       "    <tr style=\"text-align: right;\">\n",
       "      <th></th>\n",
       "      <th>antecedents</th>\n",
       "      <th>consequents</th>\n",
       "      <th>antecedent support</th>\n",
       "      <th>consequent support</th>\n",
       "      <th>support</th>\n",
       "      <th>confidence</th>\n",
       "      <th>lift</th>\n",
       "      <th>leverage</th>\n",
       "      <th>conviction</th>\n",
       "    </tr>\n",
       "  </thead>\n",
       "  <tbody>\n",
       "    <tr>\n",
       "      <th>360</th>\n",
       "      <td>(ItalCook, ArtBks)</td>\n",
       "      <td>(ItalArt)</td>\n",
       "      <td>0.0565</td>\n",
       "      <td>0.0485</td>\n",
       "      <td>0.0375</td>\n",
       "      <td>0.663717</td>\n",
       "      <td>13.684883</td>\n",
       "      <td>0.034760</td>\n",
       "      <td>2.829461</td>\n",
       "    </tr>\n",
       "    <tr>\n",
       "      <th>361</th>\n",
       "      <td>(ItalArt)</td>\n",
       "      <td>(ItalCook, ArtBks)</td>\n",
       "      <td>0.0485</td>\n",
       "      <td>0.0565</td>\n",
       "      <td>0.0375</td>\n",
       "      <td>0.773196</td>\n",
       "      <td>13.684883</td>\n",
       "      <td>0.034760</td>\n",
       "      <td>4.159977</td>\n",
       "    </tr>\n",
       "    <tr>\n",
       "      <th>354</th>\n",
       "      <td>(ItalCook)</td>\n",
       "      <td>(ItalArt, CookBks)</td>\n",
       "      <td>0.1135</td>\n",
       "      <td>0.0410</td>\n",
       "      <td>0.0375</td>\n",
       "      <td>0.330396</td>\n",
       "      <td>8.058451</td>\n",
       "      <td>0.032847</td>\n",
       "      <td>1.432191</td>\n",
       "    </tr>\n",
       "    <tr>\n",
       "      <th>351</th>\n",
       "      <td>(ItalArt, CookBks)</td>\n",
       "      <td>(ItalCook)</td>\n",
       "      <td>0.0410</td>\n",
       "      <td>0.1135</td>\n",
       "      <td>0.0375</td>\n",
       "      <td>0.914634</td>\n",
       "      <td>8.058451</td>\n",
       "      <td>0.032847</td>\n",
       "      <td>10.384714</td>\n",
       "    </tr>\n",
       "    <tr>\n",
       "      <th>352</th>\n",
       "      <td>(ItalCook, CookBks)</td>\n",
       "      <td>(ItalArt)</td>\n",
       "      <td>0.1135</td>\n",
       "      <td>0.0485</td>\n",
       "      <td>0.0375</td>\n",
       "      <td>0.330396</td>\n",
       "      <td>6.812298</td>\n",
       "      <td>0.031995</td>\n",
       "      <td>1.420990</td>\n",
       "    </tr>\n",
       "    <tr>\n",
       "      <th>353</th>\n",
       "      <td>(ItalArt)</td>\n",
       "      <td>(ItalCook, CookBks)</td>\n",
       "      <td>0.0485</td>\n",
       "      <td>0.1135</td>\n",
       "      <td>0.0375</td>\n",
       "      <td>0.773196</td>\n",
       "      <td>6.812298</td>\n",
       "      <td>0.031995</td>\n",
       "      <td>3.908659</td>\n",
       "    </tr>\n",
       "    <tr>\n",
       "      <th>356</th>\n",
       "      <td>(ItalArt)</td>\n",
       "      <td>(ItalCook)</td>\n",
       "      <td>0.0485</td>\n",
       "      <td>0.1135</td>\n",
       "      <td>0.0375</td>\n",
       "      <td>0.773196</td>\n",
       "      <td>6.812298</td>\n",
       "      <td>0.031995</td>\n",
       "      <td>3.908659</td>\n",
       "    </tr>\n",
       "    <tr>\n",
       "      <th>357</th>\n",
       "      <td>(ItalCook)</td>\n",
       "      <td>(ItalArt)</td>\n",
       "      <td>0.1135</td>\n",
       "      <td>0.0485</td>\n",
       "      <td>0.0375</td>\n",
       "      <td>0.330396</td>\n",
       "      <td>6.812298</td>\n",
       "      <td>0.031995</td>\n",
       "      <td>1.420990</td>\n",
       "    </tr>\n",
       "    <tr>\n",
       "      <th>359</th>\n",
       "      <td>(ItalArt, ArtBks)</td>\n",
       "      <td>(ItalCook)</td>\n",
       "      <td>0.0485</td>\n",
       "      <td>0.1135</td>\n",
       "      <td>0.0375</td>\n",
       "      <td>0.773196</td>\n",
       "      <td>6.812298</td>\n",
       "      <td>0.031995</td>\n",
       "      <td>3.908659</td>\n",
       "    </tr>\n",
       "    <tr>\n",
       "      <th>362</th>\n",
       "      <td>(ItalCook)</td>\n",
       "      <td>(ItalArt, ArtBks)</td>\n",
       "      <td>0.1135</td>\n",
       "      <td>0.0485</td>\n",
       "      <td>0.0375</td>\n",
       "      <td>0.330396</td>\n",
       "      <td>6.812298</td>\n",
       "      <td>0.031995</td>\n",
       "      <td>1.420990</td>\n",
       "    </tr>\n",
       "  </tbody>\n",
       "</table>\n",
       "</div>"
      ],
      "text/plain": [
       "             antecedents          consequents  antecedent support  \\\n",
       "360   (ItalCook, ArtBks)            (ItalArt)              0.0565   \n",
       "361            (ItalArt)   (ItalCook, ArtBks)              0.0485   \n",
       "354           (ItalCook)   (ItalArt, CookBks)              0.1135   \n",
       "351   (ItalArt, CookBks)           (ItalCook)              0.0410   \n",
       "352  (ItalCook, CookBks)            (ItalArt)              0.1135   \n",
       "353            (ItalArt)  (ItalCook, CookBks)              0.0485   \n",
       "356            (ItalArt)           (ItalCook)              0.0485   \n",
       "357           (ItalCook)            (ItalArt)              0.1135   \n",
       "359    (ItalArt, ArtBks)           (ItalCook)              0.0485   \n",
       "362           (ItalCook)    (ItalArt, ArtBks)              0.1135   \n",
       "\n",
       "     consequent support  support  confidence       lift  leverage  conviction  \n",
       "360              0.0485   0.0375    0.663717  13.684883  0.034760    2.829461  \n",
       "361              0.0565   0.0375    0.773196  13.684883  0.034760    4.159977  \n",
       "354              0.0410   0.0375    0.330396   8.058451  0.032847    1.432191  \n",
       "351              0.1135   0.0375    0.914634   8.058451  0.032847   10.384714  \n",
       "352              0.0485   0.0375    0.330396   6.812298  0.031995    1.420990  \n",
       "353              0.1135   0.0375    0.773196   6.812298  0.031995    3.908659  \n",
       "356              0.1135   0.0375    0.773196   6.812298  0.031995    3.908659  \n",
       "357              0.0485   0.0375    0.330396   6.812298  0.031995    1.420990  \n",
       "359              0.1135   0.0375    0.773196   6.812298  0.031995    3.908659  \n",
       "362              0.0485   0.0375    0.330396   6.812298  0.031995    1.420990  "
      ]
     },
     "execution_count": 12,
     "metadata": {},
     "output_type": "execute_result"
    }
   ],
   "source": [
    "rules.head(10)"
   ]
  },
  {
   "cell_type": "markdown",
   "metadata": {},
   "source": [
    "### Support Vs Lift"
   ]
  },
  {
   "cell_type": "code",
   "execution_count": 13,
   "metadata": {},
   "outputs": [
    {
     "data": {
      "image/png": "[encoded data removed]",
      "text/plain": [
       "<Figure size 432x288 with 1 Axes>"
      ]
     },
     "metadata": {
      "needs_background": "light"
     },
     "output_type": "display_data"
    }
   ],
   "source": [
    "plt.scatter(rules['support'],rules['lift'],alpha=0.5)\n",
    "plt.xlabel('support')\n",
    "plt.ylabel('lift')\n",
    "plt.title('Support vs Lift')\n",
    "plt.show()"
   ]
  },
  {
   "cell_type": "markdown",
   "metadata": {},
   "source": [
    "### Support vs Confidence"
   ]
  },
  {
   "cell_type": "code",
   "execution_count": 14,
   "metadata": {},
   "outputs": [
    {
     "data": {
      "image/png": "[encoded data removed]",
      "text/plain": [
       "<Figure size 432x288 with 1 Axes>"
      ]
     },
     "metadata": {
      "needs_background": "light"
     },
     "output_type": "display_data"
    }
   ],
   "source": [
    "plt.scatter(rules['support'],rules['confidence'],alpha=0.5)\n",
    "plt.xlabel('support')\n",
    "plt.ylabel('confidence')\n",
    "plt.title('Support vs Confidence')\n",
    "plt.show()"
   ]
  },
  {
   "cell_type": "markdown",
   "metadata": {},
   "source": [
    "### Confidence vs Lift"
   ]
  },
  {
   "cell_type": "code",
   "execution_count": 15,
   "metadata": {},
   "outputs": [
    {
     "data": {
      "image/png": "[encoded data removed]",
      "text/plain": [
       "<Figure size 432x288 with 1 Axes>"
      ]
     },
     "metadata": {
      "needs_background": "light"
     },
     "output_type": "display_data"
    }
   ],
   "source": [
    "plt.scatter(rules['confidence'],rules['lift'],alpha=0.5)\n",
    "plt.xlabel('confidence')\n",
    "plt.ylabel('lift')\n",
    "plt.title('Confidence vs Lift')\n",
    "plt.show()"
   ]
  },
  {
   "cell_type": "code",
   "execution_count": 16,
   "metadata": {},
   "outputs": [
    {
     "data": {
      "text/plain": [
       "[<matplotlib.lines.Line2D at 0x1e94f67b2c8>,\n",
       " <matplotlib.lines.Line2D at 0x1e94f66c088>]"
      ]
     },
     "execution_count": 16,
     "metadata": {},
     "output_type": "execute_result"
    },
    {
     "data": {
      "image/png": "[encoded data removed]",
      "text/plain": [
       "<Figure size 432x288 with 1 Axes>"
      ]
     },
     "metadata": {
      "needs_background": "light"
     },
     "output_type": "display_data"
    }
   ],
   "source": [
    "fit = np.polyfit(rules['lift'],rules['confidence'],1)\n",
    "fit_fn = np.poly1d(fit)\n",
    "plt.plot(rules['lift'],\n",
    "rules['confidence'],'yo',\n",
    "rules['lift'],\n",
    "         fit_fn(rules['lift']))"
   ]
  },
  {
   "cell_type": "code",
   "execution_count": 17,
   "metadata": {},
   "outputs": [],
   "source": [
    "frequent_itemsets = apriori(book, min_support=0.047, max_len=3,use_colnames = True)"
   ]
  },
  {
   "cell_type": "code",
   "execution_count": 18,
   "metadata": {},
   "outputs": [],
   "source": [
    "# Most Frequent item sets based on support \n",
    "frequent_itemsets.sort_values('support',ascending = False,inplace=True)"
   ]
  },
  {
   "cell_type": "code",
   "execution_count": 19,
   "metadata": {},
   "outputs": [],
   "source": [
    "rules = association_rules(frequent_itemsets, metric=\"lift\", min_threshold=1)\n",
    "rules.sort_values('lift',ascending = False,inplace=True)"
   ]
  },
  {
   "cell_type": "code",
   "execution_count": 20,
   "metadata": {},
   "outputs": [
    {
     "data": {
      "text/html": [
       "<div>\n",
       "<style scoped>\n",
       "    .dataframe tbody tr th:only-of-type {\n",
       "        vertical-align: middle;\n",
       "    }\n",
       "\n",
       "    .dataframe tbody tr th {\n",
       "        vertical-align: top;\n",
       "    }\n",
       "\n",
       "    .dataframe thead th {\n",
       "        text-align: right;\n",
       "    }\n",
       "</style>\n",
       "<table border=\"1\" class=\"dataframe\">\n",
       "  <thead>\n",
       "    <tr style=\"text-align: right;\">\n",
       "      <th></th>\n",
       "      <th>antecedents</th>\n",
       "      <th>consequents</th>\n",
       "      <th>antecedent support</th>\n",
       "      <th>consequent support</th>\n",
       "      <th>support</th>\n",
       "      <th>confidence</th>\n",
       "      <th>lift</th>\n",
       "      <th>leverage</th>\n",
       "      <th>conviction</th>\n",
       "    </tr>\n",
       "  </thead>\n",
       "  <tbody>\n",
       "    <tr>\n",
       "      <th>303</th>\n",
       "      <td>(ArtBks)</td>\n",
       "      <td>(ItalArt)</td>\n",
       "      <td>0.2410</td>\n",
       "      <td>0.0485</td>\n",
       "      <td>0.0485</td>\n",
       "      <td>0.201245</td>\n",
       "      <td>4.149378</td>\n",
       "      <td>0.036812</td>\n",
       "      <td>1.191229</td>\n",
       "    </tr>\n",
       "    <tr>\n",
       "      <th>302</th>\n",
       "      <td>(ItalArt)</td>\n",
       "      <td>(ArtBks)</td>\n",
       "      <td>0.0485</td>\n",
       "      <td>0.2410</td>\n",
       "      <td>0.0485</td>\n",
       "      <td>1.000000</td>\n",
       "      <td>4.149378</td>\n",
       "      <td>0.036812</td>\n",
       "      <td>inf</td>\n",
       "    </tr>\n",
       "    <tr>\n",
       "      <th>237</th>\n",
       "      <td>(YouthBks, CookBks)</td>\n",
       "      <td>(ItalCook)</td>\n",
       "      <td>0.1620</td>\n",
       "      <td>0.1135</td>\n",
       "      <td>0.0590</td>\n",
       "      <td>0.364198</td>\n",
       "      <td>3.208789</td>\n",
       "      <td>0.040613</td>\n",
       "      <td>1.394301</td>\n",
       "    </tr>\n",
       "    <tr>\n",
       "      <th>240</th>\n",
       "      <td>(ItalCook)</td>\n",
       "      <td>(YouthBks, CookBks)</td>\n",
       "      <td>0.1135</td>\n",
       "      <td>0.1620</td>\n",
       "      <td>0.0590</td>\n",
       "      <td>0.519824</td>\n",
       "      <td>3.208789</td>\n",
       "      <td>0.040613</td>\n",
       "      <td>1.745193</td>\n",
       "    </tr>\n",
       "    <tr>\n",
       "      <th>273</th>\n",
       "      <td>(ItalCook)</td>\n",
       "      <td>(ArtBks, CookBks)</td>\n",
       "      <td>0.1135</td>\n",
       "      <td>0.1670</td>\n",
       "      <td>0.0565</td>\n",
       "      <td>0.497797</td>\n",
       "      <td>2.980822</td>\n",
       "      <td>0.037545</td>\n",
       "      <td>1.658693</td>\n",
       "    </tr>\n",
       "    <tr>\n",
       "      <th>272</th>\n",
       "      <td>(ArtBks, CookBks)</td>\n",
       "      <td>(ItalCook)</td>\n",
       "      <td>0.1670</td>\n",
       "      <td>0.1135</td>\n",
       "      <td>0.0565</td>\n",
       "      <td>0.338323</td>\n",
       "      <td>2.980822</td>\n",
       "      <td>0.037545</td>\n",
       "      <td>1.339778</td>\n",
       "    </tr>\n",
       "    <tr>\n",
       "      <th>222</th>\n",
       "      <td>(GeogBks, CookBks)</td>\n",
       "      <td>(ItalCook)</td>\n",
       "      <td>0.1925</td>\n",
       "      <td>0.1135</td>\n",
       "      <td>0.0640</td>\n",
       "      <td>0.332468</td>\n",
       "      <td>2.929229</td>\n",
       "      <td>0.042151</td>\n",
       "      <td>1.328025</td>\n",
       "    </tr>\n",
       "    <tr>\n",
       "      <th>223</th>\n",
       "      <td>(ItalCook)</td>\n",
       "      <td>(GeogBks, CookBks)</td>\n",
       "      <td>0.1135</td>\n",
       "      <td>0.1925</td>\n",
       "      <td>0.0640</td>\n",
       "      <td>0.563877</td>\n",
       "      <td>2.929229</td>\n",
       "      <td>0.042151</td>\n",
       "      <td>1.851540</td>\n",
       "    </tr>\n",
       "    <tr>\n",
       "      <th>156</th>\n",
       "      <td>(CookBks, ChildBks)</td>\n",
       "      <td>(ItalCook)</td>\n",
       "      <td>0.2560</td>\n",
       "      <td>0.1135</td>\n",
       "      <td>0.0850</td>\n",
       "      <td>0.332031</td>\n",
       "      <td>2.925385</td>\n",
       "      <td>0.055944</td>\n",
       "      <td>1.327158</td>\n",
       "    </tr>\n",
       "    <tr>\n",
       "      <th>157</th>\n",
       "      <td>(ItalCook)</td>\n",
       "      <td>(CookBks, ChildBks)</td>\n",
       "      <td>0.1135</td>\n",
       "      <td>0.2560</td>\n",
       "      <td>0.0850</td>\n",
       "      <td>0.748899</td>\n",
       "      <td>2.925385</td>\n",
       "      <td>0.055944</td>\n",
       "      <td>2.962947</td>\n",
       "    </tr>\n",
       "  </tbody>\n",
       "</table>\n",
       "</div>"
      ],
      "text/plain": [
       "             antecedents          consequents  antecedent support  \\\n",
       "303             (ArtBks)            (ItalArt)              0.2410   \n",
       "302            (ItalArt)             (ArtBks)              0.0485   \n",
       "237  (YouthBks, CookBks)           (ItalCook)              0.1620   \n",
       "240           (ItalCook)  (YouthBks, CookBks)              0.1135   \n",
       "273           (ItalCook)    (ArtBks, CookBks)              0.1135   \n",
       "272    (ArtBks, CookBks)           (ItalCook)              0.1670   \n",
       "222   (GeogBks, CookBks)           (ItalCook)              0.1925   \n",
       "223           (ItalCook)   (GeogBks, CookBks)              0.1135   \n",
       "156  (CookBks, ChildBks)           (ItalCook)              0.2560   \n",
       "157           (ItalCook)  (CookBks, ChildBks)              0.1135   \n",
       "\n",
       "     consequent support  support  confidence      lift  leverage  conviction  \n",
       "303              0.0485   0.0485    0.201245  4.149378  0.036812    1.191229  \n",
       "302              0.2410   0.0485    1.000000  4.149378  0.036812         inf  \n",
       "237              0.1135   0.0590    0.364198  3.208789  0.040613    1.394301  \n",
       "240              0.1620   0.0590    0.519824  3.208789  0.040613    1.745193  \n",
       "273              0.1670   0.0565    0.497797  2.980822  0.037545    1.658693  \n",
       "272              0.1135   0.0565    0.338323  2.980822  0.037545    1.339778  \n",
       "222              0.1135   0.0640    0.332468  2.929229  0.042151    1.328025  \n",
       "223              0.1925   0.0640    0.563877  2.929229  0.042151    1.851540  \n",
       "156              0.1135   0.0850    0.332031  2.925385  0.055944    1.327158  \n",
       "157              0.2560   0.0850    0.748899  2.925385  0.055944    2.962947  "
      ]
     },
     "execution_count": 20,
     "metadata": {},
     "output_type": "execute_result"
    }
   ],
   "source": [
    "rules.head(10)"
   ]
  },
  {
   "cell_type": "markdown",
   "metadata": {},
   "source": [
    "### Support VS Lift"
   ]
  },
  {
   "cell_type": "code",
   "execution_count": 21,
   "metadata": {},
   "outputs": [
    {
     "data": {
      "image/png": "[encoded data removed]",
      "text/plain": [
       "<Figure size 432x288 with 1 Axes>"
      ]
     },
     "metadata": {
      "needs_background": "light"
     },
     "output_type": "display_data"
    }
   ],
   "source": [
    "ax = rules[\"support\"],rules[\"confidence\"].value_counts().plot(kind=\"hist\")\n",
    "plt.xlabel('support')\n",
    "plt.ylabel('confidence')\n",
    "plt.title('Support vs Confidence')\n",
    "plt.show()"
   ]
  },
  {
   "cell_type": "markdown",
   "metadata": {},
   "source": [
    "### Confidence Vs Lift"
   ]
  },
  {
   "cell_type": "code",
   "execution_count": 22,
   "metadata": {},
   "outputs": [
    {
     "data": {
      "image/png": "[encoded data removed]",
      "text/plain": [
       "<Figure size 432x288 with 1 Axes>"
      ]
     },
     "metadata": {
      "needs_background": "light"
     },
     "output_type": "display_data"
    }
   ],
   "source": [
    "bx = rules[\"confidence\"],rules[\"lift\"].value_counts().plot(kind=\"hist\")\n",
    "plt.xlabel('confidence')\n",
    "plt.ylabel('lift')\n",
    "plt.title('confidence vs lift')\n",
    "plt.show()"
   ]
  },
  {
   "cell_type": "markdown",
   "metadata": {},
   "source": [
    "### Support vs Lift"
   ]
  },
  {
   "cell_type": "code",
   "execution_count": 23,
   "metadata": {},
   "outputs": [
    {
     "data": {
      "image/png": "[encoded data removed]",
      "text/plain": [
       "<Figure size 432x288 with 1 Axes>"
      ]
     },
     "metadata": {
      "needs_background": "light"
     },
     "output_type": "display_data"
    }
   ],
   "source": [
    "bx = rules[\"support\"],rules[\"lift\"].value_counts().plot(kind=\"hist\")\n",
    "plt.xlabel('Support')\n",
    "plt.ylabel('Lift')\n",
    "plt.title('support vs lift')\n",
    "plt.show()"
   ]
  },
  {
   "cell_type": "code",
   "execution_count": null,
   "metadata": {},
   "outputs": [],
   "source": []
  }
 ],
 "metadata": {
  "kernelspec": {
   "display_name": "Python 3",
   "language": "python",
   "name": "python3"
  },
  "language_info": {
   "codemirror_mode": {
    "name": "ipython",
    "version": 3
   },
   "file_extension": ".py",
   "mimetype": "text/x-python",
   "name": "python",
   "nbconvert_exporter": "python",
   "pygments_lexer": "ipython3",
   "version": "3.7.7"
  }
 },
 "nbformat": 4,
 "nbformat_minor": 4
}
